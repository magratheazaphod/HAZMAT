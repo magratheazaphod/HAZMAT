{
 "cells": [
  {
   "cell_type": "code",
   "execution_count": 1,
   "metadata": {
    "collapsed": false
   },
   "outputs": [],
   "source": [
    "from Tile import Tile\n",
    "from Tilebag import Tilebag"
   ]
  },
  {
   "cell_type": "code",
   "execution_count": 2,
   "metadata": {
    "collapsed": false
   },
   "outputs": [],
   "source": [
    "t1 = Tile('2')\n",
    "t2 = Tile(19)"
   ]
  },
  {
   "cell_type": "code",
   "execution_count": 3,
   "metadata": {
    "collapsed": false
   },
   "outputs": [],
   "source": [
    "tb = Tilebag()"
   ]
  },
  {
   "cell_type": "code",
   "execution_count": 4,
   "metadata": {
    "collapsed": false
   },
   "outputs": [],
   "source": [
    "tb.fill_bag()"
   ]
  },
  {
   "cell_type": "code",
   "execution_count": 5,
   "metadata": {
    "collapsed": false
   },
   "outputs": [
    {
     "data": {
      "text/plain": [
       "5"
      ]
     },
     "execution_count": 5,
     "metadata": {},
     "output_type": "execute_result"
    }
   ],
   "source": [
    "tb.how_many_in_bag('0')"
   ]
  },
  {
   "cell_type": "code",
   "execution_count": 6,
   "metadata": {
    "collapsed": false
   },
   "outputs": [
    {
     "name": "stdout",
     "output_type": "stream",
     "text": [
      "?,?,?,?\n",
      "0,0,0,0,0\n",
      "1,1,1,1,1,1\n",
      "2,2,2,2,2,2\n",
      "3,3,3,3,3\n",
      "4,4,4,4,4\n",
      "5,5,5,5\n",
      "6,6,6,6\n",
      "7,7,7,7\n",
      "8,8,8,8\n",
      "9,9,9,9\n",
      "*,*,*,*\n",
      "*|/,*|/,*|/,*|/\n",
      "+,+,+,+\n",
      "+|-,+|-,+|-,+|-,+|-\n",
      "-,-,-,-\n",
      "/,/,/,/\n",
      "=,=,=,=,=,=,=,=,=,=,=\n",
      "10,10\n",
      "11\n",
      "12,12\n",
      "13\n",
      "14\n",
      "15\n",
      "16\n",
      "17\n",
      "18\n",
      "19\n",
      "20\n"
     ]
    }
   ],
   "source": [
    "tb.print_bag()"
   ]
  },
  {
   "cell_type": "code",
   "execution_count": 7,
   "metadata": {
    "collapsed": false
   },
   "outputs": [
    {
     "name": "stdout",
     "output_type": "stream",
     "text": [
      "WARNING: You are adding another 4 even though this exceeds the standard distribution.\n",
      "Are you sure you want to continue? (n)o or (y)es:y\n",
      "WARNING: You are adding another 4 even though this exceeds the standard distribution.\n",
      "Are you sure you want to continue? (n)o or (y)es:y\n",
      "WARNING: You are adding another 4 even though this exceeds the standard distribution.\n",
      "Are you sure you want to continue? (n)o or (y)es:y\n",
      "WARNING: You are adding another 4 even though this exceeds the standard distribution.\n",
      "Are you sure you want to continue? (n)o or (y)es:y\n",
      "WARNING: You are adding another 4 even though this exceeds the standard distribution.\n",
      "Are you sure you want to continue? (n)o or (y)es:n\n",
      "Did not add tile in question.\n",
      "WARNING: You are adding another + even though this exceeds the standard distribution.\n",
      "Are you sure you want to continue? (n)o or (y)es:\n",
      "Did not add tile in question.\n",
      "WARNING: You are adding another + even though this exceeds the standard distribution.\n",
      "Are you sure you want to continue? (n)o or (y)es:\n",
      "Did not add tile in question.\n",
      "WARNING: You are adding another + even though this exceeds the standard distribution.\n",
      "Are you sure you want to continue? (n)o or (y)es:\n",
      "Did not add tile in question.\n",
      "WARNING: You are adding another + even though this exceeds the standard distribution.\n",
      "Are you sure you want to continue? (n)o or (y)es:\n",
      "Did not add tile in question.\n",
      "WARNING: You are adding another 9 even though this exceeds the standard distribution.\n",
      "Are you sure you want to continue? (n)o or (y)es:\n",
      "Did not add tile in question.\n",
      "WARNING: You are adding another 9 even though this exceeds the standard distribution.\n",
      "Are you sure you want to continue? (n)o or (y)es:\n",
      "Did not add tile in question.\n",
      "WARNING: You are adding another 9 even though this exceeds the standard distribution.\n",
      "Are you sure you want to continue? (n)o or (y)es:\n",
      "Did not add tile in question.\n",
      "WARNING: You are adding another 9 even though this exceeds the standard distribution.\n",
      "Are you sure you want to continue? (n)o or (y)es:\n",
      "Did not add tile in question.\n",
      "WARNING: You are adding another 0 even though this exceeds the standard distribution.\n",
      "Are you sure you want to continue? (n)o or (y)es:\n",
      "Did not add tile in question.\n",
      "WARNING: You are adding another 0 even though this exceeds the standard distribution.\n",
      "Are you sure you want to continue? (n)o or (y)es:\n",
      "Did not add tile in question.\n",
      "WARNING: You are adding another 0 even though this exceeds the standard distribution.\n",
      "Are you sure you want to continue? (n)o or (y)es:\n",
      "Did not add tile in question.\n",
      "WARNING: You are adding another 0 even though this exceeds the standard distribution.\n",
      "Are you sure you want to continue? (n)o or (y)es:\n",
      "Did not add tile in question.\n",
      "WARNING: You are adding another 0 even though this exceeds the standard distribution.\n",
      "Are you sure you want to continue? (n)o or (y)es:\n",
      "Did not add tile in question.\n",
      "WARNING: You are adding another 3 even though this exceeds the standard distribution.\n",
      "Are you sure you want to continue? (n)o or (y)es:\n",
      "Did not add tile in question.\n",
      "WARNING: You are adding another 3 even though this exceeds the standard distribution.\n",
      "Are you sure you want to continue? (n)o or (y)es:\n",
      "Did not add tile in question.\n",
      "WARNING: You are adding another 3 even though this exceeds the standard distribution.\n",
      "Are you sure you want to continue? (n)o or (y)es:\n",
      "Did not add tile in question.\n",
      "WARNING: You are adding another 3 even though this exceeds the standard distribution.\n",
      "Are you sure you want to continue? (n)o or (y)es:\n",
      "Did not add tile in question.\n",
      "WARNING: You are adding another 3 even though this exceeds the standard distribution.\n",
      "Are you sure you want to continue? (n)o or (y)es:\n",
      "Did not add tile in question.\n",
      "WARNING: You are adding another 20 even though this exceeds the standard distribution.\n",
      "Are you sure you want to continue? (n)o or (y)es:\n",
      "Did not add tile in question.\n",
      "WARNING: You are adding another 11 even though this exceeds the standard distribution.\n",
      "Are you sure you want to continue? (n)o or (y)es:\n",
      "Did not add tile in question.\n",
      "WARNING: You are adding another - even though this exceeds the standard distribution.\n",
      "Are you sure you want to continue? (n)o or (y)es:\n",
      "Did not add tile in question.\n",
      "WARNING: You are adding another - even though this exceeds the standard distribution.\n",
      "Are you sure you want to continue? (n)o or (y)es:\n",
      "Did not add tile in question.\n",
      "WARNING: You are adding another - even though this exceeds the standard distribution.\n",
      "Are you sure you want to continue? (n)o or (y)es:\n",
      "Did not add tile in question.\n",
      "WARNING: You are adding another - even though this exceeds the standard distribution.\n",
      "Are you sure you want to continue? (n)o or (y)es:\n",
      "Did not add tile in question.\n",
      "WARNING: You are adding another 15 even though this exceeds the standard distribution.\n",
      "Are you sure you want to continue? (n)o or (y)es:\n",
      "Did not add tile in question.\n",
      "WARNING: You are adding another 13 even though this exceeds the standard distribution.\n",
      "Are you sure you want to continue? (n)o or (y)es:\n",
      "Did not add tile in question.\n",
      "WARNING: You are adding another 1 even though this exceeds the standard distribution.\n",
      "Are you sure you want to continue? (n)o or (y)es:\n",
      "Did not add tile in question.\n",
      "WARNING: You are adding another 1 even though this exceeds the standard distribution.\n",
      "Are you sure you want to continue? (n)o or (y)es:\n",
      "Did not add tile in question.\n",
      "WARNING: You are adding another 1 even though this exceeds the standard distribution.\n",
      "Are you sure you want to continue? (n)o or (y)es:\n",
      "Did not add tile in question.\n",
      "WARNING: You are adding another 1 even though this exceeds the standard distribution.\n",
      "Are you sure you want to continue? (n)o or (y)es:\n",
      "Did not add tile in question.\n",
      "WARNING: You are adding another 1 even though this exceeds the standard distribution.\n",
      "Are you sure you want to continue? (n)o or (y)es:\n",
      "Did not add tile in question.\n",
      "WARNING: You are adding another 1 even though this exceeds the standard distribution.\n",
      "Are you sure you want to continue? (n)o or (y)es:\n",
      "Did not add tile in question.\n",
      "WARNING: You are adding another 19 even though this exceeds the standard distribution.\n",
      "Are you sure you want to continue? (n)o or (y)es:\n",
      "Did not add tile in question.\n",
      "WARNING: You are adding another 17 even though this exceeds the standard distribution.\n",
      "Are you sure you want to continue? (n)o or (y)es:\n",
      "Did not add tile in question.\n",
      "WARNING: You are adding another 7 even though this exceeds the standard distribution.\n",
      "Are you sure you want to continue? (n)o or (y)es:\n",
      "Did not add tile in question.\n",
      "WARNING: You are adding another 7 even though this exceeds the standard distribution.\n",
      "Are you sure you want to continue? (n)o or (y)es:\n",
      "Did not add tile in question.\n",
      "WARNING: You are adding another 7 even though this exceeds the standard distribution.\n",
      "Are you sure you want to continue? (n)o or (y)es:\n",
      "Did not add tile in question.\n",
      "WARNING: You are adding another 7 even though this exceeds the standard distribution.\n",
      "Are you sure you want to continue? (n)o or (y)es:\n",
      "Did not add tile in question.\n",
      "WARNING: You are adding another / even though this exceeds the standard distribution.\n",
      "Are you sure you want to continue? (n)o or (y)es:\n",
      "Did not add tile in question.\n",
      "WARNING: You are adding another / even though this exceeds the standard distribution.\n",
      "Are you sure you want to continue? (n)o or (y)es:\n",
      "Did not add tile in question.\n",
      "WARNING: You are adding another / even though this exceeds the standard distribution.\n",
      "Are you sure you want to continue? (n)o or (y)es:\n",
      "Did not add tile in question.\n",
      "WARNING: You are adding another / even though this exceeds the standard distribution.\n",
      "Are you sure you want to continue? (n)o or (y)es:\n",
      "Did not add tile in question.\n",
      "WARNING: You are adding another 5 even though this exceeds the standard distribution.\n",
      "Are you sure you want to continue? (n)o or (y)es:\n",
      "Did not add tile in question.\n",
      "WARNING: You are adding another 5 even though this exceeds the standard distribution.\n",
      "Are you sure you want to continue? (n)o or (y)es:\n",
      "Did not add tile in question.\n",
      "WARNING: You are adding another 5 even though this exceeds the standard distribution.\n",
      "Are you sure you want to continue? (n)o or (y)es:\n",
      "Did not add tile in question.\n",
      "WARNING: You are adding another 5 even though this exceeds the standard distribution.\n",
      "Are you sure you want to continue? (n)o or (y)es:\n",
      "Did not add tile in question.\n",
      "WARNING: You are adding another 2 even though this exceeds the standard distribution.\n",
      "Are you sure you want to continue? (n)o or (y)es:\n",
      "Did not add tile in question.\n",
      "WARNING: You are adding another 2 even though this exceeds the standard distribution.\n",
      "Are you sure you want to continue? (n)o or (y)es:\n",
      "Did not add tile in question.\n",
      "WARNING: You are adding another 2 even though this exceeds the standard distribution.\n",
      "Are you sure you want to continue? (n)o or (y)es:\n",
      "Did not add tile in question.\n",
      "WARNING: You are adding another 2 even though this exceeds the standard distribution.\n",
      "Are you sure you want to continue? (n)o or (y)es:\n",
      "Did not add tile in question.\n",
      "WARNING: You are adding another 2 even though this exceeds the standard distribution.\n",
      "Are you sure you want to continue? (n)o or (y)es:\n",
      "Did not add tile in question.\n",
      "WARNING: You are adding another 2 even though this exceeds the standard distribution.\n",
      "Are you sure you want to continue? (n)o or (y)es:\n",
      "Did not add tile in question.\n",
      "WARNING: You are adding another 6 even though this exceeds the standard distribution.\n",
      "Are you sure you want to continue? (n)o or (y)es:\n",
      "Did not add tile in question.\n",
      "WARNING: You are adding another 6 even though this exceeds the standard distribution.\n",
      "Are you sure you want to continue? (n)o or (y)es:\n",
      "Did not add tile in question.\n",
      "WARNING: You are adding another 6 even though this exceeds the standard distribution.\n",
      "Are you sure you want to continue? (n)o or (y)es:\n",
      "Did not add tile in question.\n",
      "WARNING: You are adding another 6 even though this exceeds the standard distribution.\n",
      "Are you sure you want to continue? (n)o or (y)es:\n",
      "Did not add tile in question.\n",
      "WARNING: You are adding another *|/ even though this exceeds the standard distribution.\n",
      "Are you sure you want to continue? (n)o or (y)es:\n",
      "Did not add tile in question.\n",
      "WARNING: You are adding another *|/ even though this exceeds the standard distribution.\n",
      "Are you sure you want to continue? (n)o or (y)es:\n",
      "Did not add tile in question.\n",
      "WARNING: You are adding another *|/ even though this exceeds the standard distribution.\n",
      "Are you sure you want to continue? (n)o or (y)es:\n",
      "Did not add tile in question.\n",
      "WARNING: You are adding another *|/ even though this exceeds the standard distribution.\n",
      "Are you sure you want to continue? (n)o or (y)es:\n",
      "Did not add tile in question.\n",
      "WARNING: You are adding another * even though this exceeds the standard distribution.\n",
      "Are you sure you want to continue? (n)o or (y)es:\n",
      "Did not add tile in question.\n",
      "WARNING: You are adding another * even though this exceeds the standard distribution.\n",
      "Are you sure you want to continue? (n)o or (y)es:\n",
      "Did not add tile in question.\n",
      "WARNING: You are adding another * even though this exceeds the standard distribution.\n",
      "Are you sure you want to continue? (n)o or (y)es:\n",
      "Did not add tile in question.\n",
      "WARNING: You are adding another * even though this exceeds the standard distribution.\n",
      "Are you sure you want to continue? (n)o or (y)es:\n",
      "Did not add tile in question.\n",
      "WARNING: You are adding another 14 even though this exceeds the standard distribution.\n",
      "Are you sure you want to continue? (n)o or (y)es:\n",
      "Did not add tile in question.\n",
      "WARNING: You are adding another 8 even though this exceeds the standard distribution.\n",
      "Are you sure you want to continue? (n)o or (y)es:\n",
      "Did not add tile in question.\n",
      "WARNING: You are adding another 8 even though this exceeds the standard distribution.\n",
      "Are you sure you want to continue? (n)o or (y)es:\n",
      "Did not add tile in question.\n",
      "WARNING: You are adding another 8 even though this exceeds the standard distribution.\n",
      "Are you sure you want to continue? (n)o or (y)es:\n",
      "Did not add tile in question.\n",
      "WARNING: You are adding another 8 even though this exceeds the standard distribution.\n",
      "Are you sure you want to continue? (n)o or (y)es:\n",
      "Did not add tile in question.\n",
      "WARNING: You are adding another = even though this exceeds the standard distribution.\n",
      "Are you sure you want to continue? (n)o or (y)es:\n",
      "Did not add tile in question.\n",
      "WARNING: You are adding another = even though this exceeds the standard distribution.\n",
      "Are you sure you want to continue? (n)o or (y)es:\n",
      "Did not add tile in question.\n",
      "WARNING: You are adding another = even though this exceeds the standard distribution.\n",
      "Are you sure you want to continue? (n)o or (y)es:\n",
      "Did not add tile in question.\n",
      "WARNING: You are adding another = even though this exceeds the standard distribution.\n",
      "Are you sure you want to continue? (n)o or (y)es:\n",
      "Did not add tile in question.\n",
      "WARNING: You are adding another = even though this exceeds the standard distribution.\n",
      "Are you sure you want to continue? (n)o or (y)es:\n",
      "Did not add tile in question.\n",
      "WARNING: You are adding another = even though this exceeds the standard distribution.\n",
      "Are you sure you want to continue? (n)o or (y)es:\n",
      "Did not add tile in question.\n",
      "WARNING: You are adding another = even though this exceeds the standard distribution.\n",
      "Are you sure you want to continue? (n)o or (y)es:\n",
      "Did not add tile in question.\n",
      "WARNING: You are adding another = even though this exceeds the standard distribution.\n",
      "Are you sure you want to continue? (n)o or (y)es:\n",
      "Did not add tile in question.\n",
      "WARNING: You are adding another = even though this exceeds the standard distribution.\n",
      "Are you sure you want to continue? (n)o or (y)es:\n",
      "Did not add tile in question.\n",
      "WARNING: You are adding another = even though this exceeds the standard distribution.\n",
      "Are you sure you want to continue? (n)o or (y)es:\n",
      "Did not add tile in question.\n",
      "WARNING: You are adding another = even though this exceeds the standard distribution.\n",
      "Are you sure you want to continue? (n)o or (y)es:\n",
      "Did not add tile in question.\n",
      "WARNING: You are adding another ? even though this exceeds the standard distribution.\n",
      "Are you sure you want to continue? (n)o or (y)es:\n",
      "Did not add tile in question.\n",
      "WARNING: You are adding another ? even though this exceeds the standard distribution.\n",
      "Are you sure you want to continue? (n)o or (y)es:\n",
      "Did not add tile in question.\n",
      "WARNING: You are adding another ? even though this exceeds the standard distribution.\n",
      "Are you sure you want to continue? (n)o or (y)es:\n",
      "Did not add tile in question.\n",
      "WARNING: You are adding another ? even though this exceeds the standard distribution.\n",
      "Are you sure you want to continue? (n)o or (y)es:\n",
      "Did not add tile in question.\n",
      "WARNING: You are adding another 10 even though this exceeds the standard distribution.\n",
      "Are you sure you want to continue? (n)o or (y)es:\n",
      "Did not add tile in question.\n",
      "WARNING: You are adding another 10 even though this exceeds the standard distribution.\n",
      "Are you sure you want to continue? (n)o or (y)es:\n",
      "Did not add tile in question.\n",
      "WARNING: You are adding another +|- even though this exceeds the standard distribution.\n",
      "Are you sure you want to continue? (n)o or (y)es:\n",
      "Did not add tile in question.\n",
      "WARNING: You are adding another +|- even though this exceeds the standard distribution.\n",
      "Are you sure you want to continue? (n)o or (y)es:\n",
      "Did not add tile in question.\n",
      "WARNING: You are adding another +|- even though this exceeds the standard distribution.\n",
      "Are you sure you want to continue? (n)o or (y)es:\n",
      "Did not add tile in question.\n",
      "WARNING: You are adding another +|- even though this exceeds the standard distribution.\n",
      "Are you sure you want to continue? (n)o or (y)es:\n",
      "Did not add tile in question.\n",
      "WARNING: You are adding another +|- even though this exceeds the standard distribution.\n",
      "Are you sure you want to continue? (n)o or (y)es:\n",
      "Did not add tile in question.\n",
      "WARNING: You are adding another 12 even though this exceeds the standard distribution.\n",
      "Are you sure you want to continue? (n)o or (y)es:\n",
      "Did not add tile in question.\n",
      "WARNING: You are adding another 12 even though this exceeds the standard distribution.\n",
      "Are you sure you want to continue? (n)o or (y)es:\n",
      "Did not add tile in question.\n",
      "WARNING: You are adding another 16 even though this exceeds the standard distribution.\n",
      "Are you sure you want to continue? (n)o or (y)es:\n",
      "Did not add tile in question.\n",
      "WARNING: You are adding another 18 even though this exceeds the standard distribution.\n",
      "Are you sure you want to continue? (n)o or (y)es:\n",
      "Did not add tile in question.\n"
     ]
    }
   ],
   "source": [
    "tb.fill_bag()"
   ]
  },
  {
   "cell_type": "code",
   "execution_count": 9,
   "metadata": {
    "collapsed": false
   },
   "outputs": [
    {
     "name": "stdout",
     "output_type": "stream",
     "text": [
      "Your number is not included in the A-Math tile distribution (number tiles span from 0-20).\n"
     ]
    }
   ],
   "source": [
    "Tile.return_type('42')"
   ]
  },
  {
   "cell_type": "code",
   "execution_count": 10,
   "metadata": {
    "collapsed": false
   },
   "outputs": [
    {
     "name": "stdout",
     "output_type": "stream",
     "text": [
      "WARNING: You are adding another 0 even though this exceeds the standard distribution.\n",
      "Are you sure you want to continue? (n)o or (y)es:y\n"
     ]
    }
   ],
   "source": [
    "tb.add_tile_to_bag('0')"
   ]
  },
  {
   "cell_type": "code",
   "execution_count": 14,
   "metadata": {
    "collapsed": false
   },
   "outputs": [
    {
     "data": {
      "text/plain": [
       "True"
      ]
     },
     "execution_count": 14,
     "metadata": {},
     "output_type": "execute_result"
    }
   ],
   "source": [
    "'+|-' in tb.base_tile_distribution.keys()"
   ]
  },
  {
   "cell_type": "code",
   "execution_count": 17,
   "metadata": {
    "collapsed": false
   },
   "outputs": [
    {
     "name": "stdout",
     "output_type": "stream",
     "text": [
      "WARNING: You are adding another 19 even though this exceeds the standard distribution.\n",
      "Are you sure you want to continue? (n)o or (y)es:y\n"
     ]
    }
   ],
   "source": [
    "tb.add_tile_to_bag('19')"
   ]
  },
  {
   "cell_type": "code",
   "execution_count": 19,
   "metadata": {
    "collapsed": false
   },
   "outputs": [
    {
     "data": {
      "text/plain": [
       "106"
      ]
     },
     "execution_count": 19,
     "metadata": {},
     "output_type": "execute_result"
    }
   ],
   "source": [
    "len(tb.tiles_in_bag)"
   ]
  },
  {
   "cell_type": "code",
   "execution_count": 21,
   "metadata": {
    "collapsed": false
   },
   "outputs": [
    {
     "data": {
      "text/plain": [
       "True"
      ]
     },
     "execution_count": 21,
     "metadata": {},
     "output_type": "execute_result"
    }
   ],
   "source": [
    "'' in 'continue'"
   ]
  },
  {
   "cell_type": "code",
   "execution_count": null,
   "metadata": {
    "collapsed": true
   },
   "outputs": [],
   "source": []
  },
  {
   "cell_type": "code",
   "execution_count": 27,
   "metadata": {
    "collapsed": false
   },
   "outputs": [],
   "source": [
    "qq = map(lambda x: x.tile_type == 'Operator', tb.tiles_in_bag)\n"
   ]
  },
  {
   "cell_type": "code",
   "execution_count": 28,
   "metadata": {
    "collapsed": false
   },
   "outputs": [
    {
     "name": "stdout",
     "output_type": "stream",
     "text": [
      "[False, False, False, False, False, True, True, True, True, False, False, False, False, False, False, False, False, False, False, False, False, False, False, False, False, True, True, True, True, False, False, False, False, False, False, False, False, False, False, False, False, False, False, True, True, True, True, False, False, False, False, False, False, False, False, False, False, False, False, False, False, True, True, True, True, True, True, True, True, False, False, False, False, False, True, True, True, True, True, True, True, True, True, True, True, False, False, False, False, False, False, True, True, True, True, True, False, False, False, False, False, False, False, False, False, False]\n"
     ]
    }
   ],
   "source": [
    "print(list(qq))"
   ]
  },
  {
   "cell_type": "code",
   "execution_count": 29,
   "metadata": {
    "collapsed": false
   },
   "outputs": [
    {
     "name": "stdout",
     "output_type": "stream",
     "text": [
      "<Tilebag.Tilebag object at 0x105756208>\n"
     ]
    }
   ],
   "source": [
    "print(tb)"
   ]
  },
  {
   "cell_type": "code",
   "execution_count": 30,
   "metadata": {
    "collapsed": false
   },
   "outputs": [
    {
     "ename": "AttributeError",
     "evalue": "'Tilebag' object has no attribute 'DrawTile'",
     "output_type": "error",
     "traceback": [
      "\u001b[0;31m---------------------------------------------------------------------------\u001b[0m",
      "\u001b[0;31mAttributeError\u001b[0m                            Traceback (most recent call last)",
      "\u001b[0;32m<ipython-input-30-cd280bd4a62f>\u001b[0m in \u001b[0;36m<module>\u001b[0;34m()\u001b[0m\n\u001b[0;32m----> 1\u001b[0;31m \u001b[0mtb\u001b[0m\u001b[0;34m.\u001b[0m\u001b[0mDrawTile\u001b[0m\u001b[0;34m(\u001b[0m\u001b[0;34m)\u001b[0m\u001b[0;34m\u001b[0m\u001b[0m\n\u001b[0m",
      "\u001b[0;31mAttributeError\u001b[0m: 'Tilebag' object has no attribute 'DrawTile'"
     ]
    }
   ],
   "source": [
    "tb.DrawTile()"
   ]
  },
  {
   "cell_type": "code",
   "execution_count": null,
   "metadata": {
    "collapsed": true
   },
   "outputs": [],
   "source": []
  },
  {
   "cell_type": "code",
   "execution_count": 35,
   "metadata": {
    "collapsed": false
   },
   "outputs": [],
   "source": [
    "tt = Tile('=')"
   ]
  },
  {
   "cell_type": "code",
   "execution_count": 37,
   "metadata": {
    "collapsed": false
   },
   "outputs": [
    {
     "name": "stdout",
     "output_type": "stream",
     "text": [
      "1\n",
      "Operator\n"
     ]
    }
   ],
   "source": [
    "print(tt.point_value)\n",
    "print(tt.tile_type)"
   ]
  },
  {
   "cell_type": "code",
   "execution_count": 33,
   "metadata": {
    "collapsed": false
   },
   "outputs": [
    {
     "data": {
      "text/plain": [
       "100"
      ]
     },
     "execution_count": 33,
     "metadata": {},
     "output_type": "execute_result"
    }
   ],
   "source": [
    "sum(tb.base_tile_distribution.values())"
   ]
  },
  {
   "cell_type": "code",
   "execution_count": 29,
   "metadata": {
    "collapsed": false
   },
   "outputs": [
    {
     "name": "stdout",
     "output_type": "stream",
     "text": [
      "*\n",
      "*\n",
      "*\n",
      "*\n",
      "*|/\n",
      "*|/\n",
      "*|/\n",
      "*|/\n",
      "+\n",
      "+\n",
      "+\n",
      "+\n",
      "+|-\n",
      "+|-\n",
      "+|-\n",
      "+|-\n",
      "+|-\n",
      "-\n",
      "-\n",
      "-\n",
      "-\n",
      "/\n",
      "/\n",
      "/\n",
      "/\n",
      "0\n",
      "0\n",
      "0\n",
      "0\n",
      "0\n",
      "1\n",
      "1\n",
      "1\n",
      "1\n",
      "1\n",
      "1\n",
      "10\n",
      "10\n",
      "11\n",
      "12\n",
      "12\n",
      "13\n",
      "14\n",
      "15\n",
      "16\n",
      "17\n",
      "18\n",
      "19\n",
      "2\n",
      "2\n",
      "2\n",
      "2\n",
      "2\n",
      "2\n",
      "20\n",
      "3\n",
      "3\n",
      "3\n",
      "3\n",
      "3\n",
      "4\n",
      "4\n",
      "4\n",
      "4\n",
      "4\n",
      "5\n",
      "5\n",
      "5\n",
      "5\n",
      "6\n",
      "6\n",
      "6\n",
      "6\n",
      "7\n",
      "7\n",
      "7\n",
      "7\n",
      "8\n",
      "8\n",
      "8\n",
      "8\n",
      "9\n",
      "9\n",
      "9\n",
      "9\n",
      "=\n",
      "=\n",
      "=\n",
      "=\n",
      "=\n",
      "=\n",
      "=\n",
      "=\n",
      "=\n",
      "=\n",
      "=\n",
      "?\n",
      "?\n",
      "?\n",
      "?\n"
     ]
    },
    {
     "data": {
      "text/plain": [
       "[None,\n",
       " None,\n",
       " None,\n",
       " None,\n",
       " None,\n",
       " None,\n",
       " None,\n",
       " None,\n",
       " None,\n",
       " None,\n",
       " None,\n",
       " None,\n",
       " None,\n",
       " None,\n",
       " None,\n",
       " None,\n",
       " None,\n",
       " None,\n",
       " None,\n",
       " None,\n",
       " None,\n",
       " None,\n",
       " None,\n",
       " None,\n",
       " None,\n",
       " None,\n",
       " None,\n",
       " None,\n",
       " None,\n",
       " None,\n",
       " None,\n",
       " None,\n",
       " None,\n",
       " None,\n",
       " None,\n",
       " None,\n",
       " None,\n",
       " None,\n",
       " None,\n",
       " None,\n",
       " None,\n",
       " None,\n",
       " None,\n",
       " None,\n",
       " None,\n",
       " None,\n",
       " None,\n",
       " None,\n",
       " None,\n",
       " None,\n",
       " None,\n",
       " None,\n",
       " None,\n",
       " None,\n",
       " None,\n",
       " None,\n",
       " None,\n",
       " None,\n",
       " None,\n",
       " None,\n",
       " None,\n",
       " None,\n",
       " None,\n",
       " None,\n",
       " None,\n",
       " None,\n",
       " None,\n",
       " None,\n",
       " None,\n",
       " None,\n",
       " None,\n",
       " None,\n",
       " None,\n",
       " None,\n",
       " None,\n",
       " None,\n",
       " None,\n",
       " None,\n",
       " None,\n",
       " None,\n",
       " None,\n",
       " None,\n",
       " None,\n",
       " None,\n",
       " None,\n",
       " None,\n",
       " None,\n",
       " None,\n",
       " None,\n",
       " None,\n",
       " None,\n",
       " None,\n",
       " None,\n",
       " None,\n",
       " None,\n",
       " None,\n",
       " None,\n",
       " None,\n",
       " None,\n",
       " None]"
      ]
     },
     "execution_count": 29,
     "metadata": {},
     "output_type": "execute_result"
    }
   ],
   "source": [
    "sortbag = sorted(tb.InBag, key=lambda tile: tile.POT)\n",
    "[print(item.POT) for item in sortbag]"
   ]
  },
  {
   "cell_type": "code",
   "execution_count": 27,
   "metadata": {
    "collapsed": false
   },
   "outputs": [
    {
     "name": "stdout",
     "output_type": "stream",
     "text": [
      "['*', '*', '*', '*', '*|/', '*|/', '*|/', '*|/', '+', '+', '+', '+', '+|-', '+|-', '+|-', '+|-', '+|-', '-', '-', '-', '-', '/', '/', '/', '/', '0', '0', '0', '0', '0', '1', '1', '1', '1', '1', '1', '10', '10', '11', '12', '12', '13', '14', '15', '16', '17', '18', '19', '2', '2', '2', '2', '2', '2', '20', '3', '3', '3', '3', '3', '4', '4', '4', '4', '4', '5', '5', '5', '5', '6', '6', '6', '6', '7', '7', '7', '7', '8', '8', '8', '8', '9', '9', '9', '9', '=', '=', '=', '=', '=', '=', '=', '=', '=', '=', '=', '?', '?', '?', '?']\n"
     ]
    }
   ],
   "source": [
    "[item.POT for item in sortbag]\n",
    "print(lst)"
   ]
  },
  {
   "cell_type": "code",
   "execution_count": 25,
   "metadata": {
    "collapsed": false
   },
   "outputs": [
    {
     "data": {
      "text/plain": [
       "list"
      ]
     },
     "execution_count": 25,
     "metadata": {},
     "output_type": "execute_result"
    }
   ],
   "source": [
    "type(sortbag)"
   ]
  },
  {
   "cell_type": "code",
   "execution_count": 6,
   "metadata": {
    "collapsed": false
   },
   "outputs": [],
   "source": [
    "BaseTileDistribution = {'0': 5, '1': 6,  '2': 6,  '3': 5, '4': 5,  '5': 4, \\\n",
    "                        '6': 4, '7': 4,  '8': 4,  '9': 4,'10': 2, '11': 1, \\\n",
    "                       '12': 2,'13': 1, '14': 1, '15': 1,'16': 1, '17': 1, \\\n",
    "                       '18': 1,'19': 1, '20': 1,  '+': 4, '-': 4,  '?': 4, \\\n",
    "                        '*': 4, '/': 4,'+|-': 5,'*|/': 4, '=': 11}"
   ]
  },
  {
   "cell_type": "code",
   "execution_count": 23,
   "metadata": {
    "collapsed": false
   },
   "outputs": [],
   "source": [
    "SortedBag = sorted(tb.TilesInBag, key = lambda x: (x.Type, x.POT ))"
   ]
  },
  {
   "cell_type": "code",
   "execution_count": 24,
   "metadata": {
    "collapsed": false
   },
   "outputs": [
    {
     "name": "stdout",
     "output_type": "stream",
     "text": [
      "?\n",
      "?\n",
      "?\n",
      "?\n",
      "0\n",
      "0\n",
      "0\n",
      "0\n",
      "0\n",
      "1\n",
      "1\n",
      "1\n",
      "1\n",
      "1\n",
      "1\n",
      "2\n",
      "2\n",
      "2\n",
      "2\n",
      "2\n",
      "2\n",
      "3\n",
      "3\n",
      "3\n",
      "3\n",
      "3\n",
      "4\n",
      "4\n",
      "4\n",
      "4\n",
      "4\n",
      "5\n",
      "5\n",
      "5\n",
      "5\n",
      "6\n",
      "6\n",
      "6\n",
      "6\n",
      "7\n",
      "7\n",
      "7\n",
      "7\n",
      "8\n",
      "8\n",
      "8\n",
      "8\n",
      "9\n",
      "9\n",
      "9\n",
      "9\n",
      "*\n",
      "*\n",
      "*\n",
      "*\n",
      "*|/\n",
      "*|/\n",
      "*|/\n",
      "*|/\n",
      "+\n",
      "+\n",
      "+\n",
      "+\n",
      "+|-\n",
      "+|-\n",
      "+|-\n",
      "+|-\n",
      "+|-\n",
      "-\n",
      "-\n",
      "-\n",
      "-\n",
      "/\n",
      "/\n",
      "/\n",
      "/\n",
      "=\n",
      "=\n",
      "=\n",
      "=\n",
      "=\n",
      "=\n",
      "=\n",
      "=\n",
      "=\n",
      "=\n",
      "=\n",
      "10\n",
      "10\n",
      "11\n",
      "12\n",
      "12\n",
      "13\n",
      "14\n",
      "15\n",
      "16\n",
      "17\n",
      "18\n",
      "19\n",
      "20\n"
     ]
    },
    {
     "data": {
      "text/plain": [
       "[None,\n",
       " None,\n",
       " None,\n",
       " None,\n",
       " None,\n",
       " None,\n",
       " None,\n",
       " None,\n",
       " None,\n",
       " None,\n",
       " None,\n",
       " None,\n",
       " None,\n",
       " None,\n",
       " None,\n",
       " None,\n",
       " None,\n",
       " None,\n",
       " None,\n",
       " None,\n",
       " None,\n",
       " None,\n",
       " None,\n",
       " None,\n",
       " None,\n",
       " None,\n",
       " None,\n",
       " None,\n",
       " None,\n",
       " None,\n",
       " None,\n",
       " None,\n",
       " None,\n",
       " None,\n",
       " None,\n",
       " None,\n",
       " None,\n",
       " None,\n",
       " None,\n",
       " None,\n",
       " None,\n",
       " None,\n",
       " None,\n",
       " None,\n",
       " None,\n",
       " None,\n",
       " None,\n",
       " None,\n",
       " None,\n",
       " None,\n",
       " None,\n",
       " None,\n",
       " None,\n",
       " None,\n",
       " None,\n",
       " None,\n",
       " None,\n",
       " None,\n",
       " None,\n",
       " None,\n",
       " None,\n",
       " None,\n",
       " None,\n",
       " None,\n",
       " None,\n",
       " None,\n",
       " None,\n",
       " None,\n",
       " None,\n",
       " None,\n",
       " None,\n",
       " None,\n",
       " None,\n",
       " None,\n",
       " None,\n",
       " None,\n",
       " None,\n",
       " None,\n",
       " None,\n",
       " None,\n",
       " None,\n",
       " None,\n",
       " None,\n",
       " None,\n",
       " None,\n",
       " None,\n",
       " None,\n",
       " None,\n",
       " None,\n",
       " None,\n",
       " None,\n",
       " None,\n",
       " None,\n",
       " None,\n",
       " None,\n",
       " None,\n",
       " None,\n",
       " None,\n",
       " None,\n",
       " None]"
      ]
     },
     "execution_count": 24,
     "metadata": {},
     "output_type": "execute_result"
    }
   ],
   "source": [
    "[ print(tt.POT) for tt in SortedBag ]"
   ]
  },
  {
   "cell_type": "code",
   "execution_count": null,
   "metadata": {
    "collapsed": true
   },
   "outputs": [],
   "source": [
    "SortedBag2 = sorted(SortedBag)"
   ]
  },
  {
   "cell_type": "code",
   "execution_count": 28,
   "metadata": {
    "collapsed": false
   },
   "outputs": [
    {
     "data": {
      "text/plain": [
       "True"
      ]
     },
     "execution_count": 28,
     "metadata": {},
     "output_type": "execute_result"
    }
   ],
   "source": [
    "str.isdigit('33')"
   ]
  },
  {
   "cell_type": "code",
   "execution_count": 6,
   "metadata": {
    "collapsed": false
   },
   "outputs": [
    {
     "ename": "AttributeError",
     "evalue": "module 'Tile' has no attribute 'ReturnType'",
     "output_type": "error",
     "traceback": [
      "\u001b[0;31m---------------------------------------------------------------------------\u001b[0m",
      "\u001b[0;31mAttributeError\u001b[0m                            Traceback (most recent call last)",
      "\u001b[0;32m<ipython-input-6-6023d65a25b4>\u001b[0m in \u001b[0;36m<module>\u001b[0;34m()\u001b[0m\n\u001b[0;32m----> 1\u001b[0;31m \u001b[0mTile\u001b[0m\u001b[0;34m.\u001b[0m\u001b[0mReturnType\u001b[0m\u001b[0;34m(\u001b[0m\u001b[0;34m'1'\u001b[0m\u001b[0;34m)\u001b[0m\u001b[0;34m\u001b[0m\u001b[0m\n\u001b[0m",
      "\u001b[0;31mAttributeError\u001b[0m: module 'Tile' has no attribute 'ReturnType'"
     ]
    }
   ],
   "source": [
    "Tile.ReturnType('1')"
   ]
  },
  {
   "cell_type": "code",
   "execution_count": null,
   "metadata": {
    "collapsed": true
   },
   "outputs": [],
   "source": []
  }
 ],
 "metadata": {
  "kernelspec": {
   "display_name": "Python 3",
   "language": "python",
   "name": "python3"
  },
  "language_info": {
   "codemirror_mode": {
    "name": "ipython",
    "version": 3
   },
   "file_extension": ".py",
   "mimetype": "text/x-python",
   "name": "python",
   "nbconvert_exporter": "python",
   "pygments_lexer": "ipython3",
   "version": "3.5.2"
  }
 },
 "nbformat": 4,
 "nbformat_minor": 0
}
