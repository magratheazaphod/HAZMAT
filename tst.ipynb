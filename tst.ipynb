{
 "cells": [
  {
   "cell_type": "code",
   "execution_count": 1,
   "metadata": {
    "collapsed": false
   },
   "outputs": [],
   "source": [
    "import Tile\n",
    "import Tilebag"
   ]
  },
  {
   "cell_type": "code",
   "execution_count": 2,
   "metadata": {
    "collapsed": false
   },
   "outputs": [],
   "source": [
    "tt = Tile.Tile('=')"
   ]
  },
  {
   "cell_type": "code",
   "execution_count": 11,
   "metadata": {
    "collapsed": false
   },
   "outputs": [
    {
     "name": "stdout",
     "output_type": "stream",
     "text": [
      "1\n",
      "Operator\n"
     ]
    }
   ],
   "source": [
    "print(tt.PointValue)\n",
    "print(tt.Type)"
   ]
  },
  {
   "cell_type": "code",
   "execution_count": 10,
   "metadata": {
    "collapsed": false
   },
   "outputs": [
    {
     "data": {
      "text/plain": [
       "True"
      ]
     },
     "execution_count": 10,
     "metadata": {},
     "output_type": "execute_result"
    }
   ],
   "source": [
    "str.isdigit('19')"
   ]
  },
  {
   "cell_type": "code",
   "execution_count": 13,
   "metadata": {
    "collapsed": false
   },
   "outputs": [
    {
     "name": "stdout",
     "output_type": "stream",
     "text": [
      "woah!\n"
     ]
    }
   ],
   "source": [
    "if 1:\n",
    "    print('woah!')"
   ]
  },
  {
   "cell_type": "code",
   "execution_count": 2,
   "metadata": {
    "collapsed": false
   },
   "outputs": [],
   "source": [
    "tb = Tilebag.Tilebag()"
   ]
  },
  {
   "cell_type": "code",
   "execution_count": 3,
   "metadata": {
    "collapsed": false
   },
   "outputs": [
    {
     "data": {
      "text/plain": [
       "100"
      ]
     },
     "execution_count": 3,
     "metadata": {},
     "output_type": "execute_result"
    }
   ],
   "source": [
    "sum(tb.TileDistribution.values())"
   ]
  },
  {
   "cell_type": "code",
   "execution_count": 4,
   "metadata": {
    "collapsed": false
   },
   "outputs": [
    {
     "data": {
      "text/plain": [
       "[]"
      ]
     },
     "execution_count": 4,
     "metadata": {},
     "output_type": "execute_result"
    }
   ],
   "source": [
    "tb.InBag"
   ]
  },
  {
   "cell_type": "code",
   "execution_count": 5,
   "metadata": {
    "collapsed": false
   },
   "outputs": [],
   "source": [
    "tb.FillBag()"
   ]
  },
  {
   "cell_type": "code",
   "execution_count": 17,
   "metadata": {
    "collapsed": false
   },
   "outputs": [
    {
     "name": "stdout",
     "output_type": "stream",
     "text": [
      "[<Tile.Tile object at 0x10684ccf8>, <Tile.Tile object at 0x10684cd30>, <Tile.Tile object at 0x10684cd68>, <Tile.Tile object at 0x10684cda0>, <Tile.Tile object at 0x1068388d0>, <Tile.Tile object at 0x1068389e8>, <Tile.Tile object at 0x106838a20>, <Tile.Tile object at 0x106838a58>, <Tile.Tile object at 0x10684cc18>, <Tile.Tile object at 0x10684cc50>, <Tile.Tile object at 0x10684cc88>, <Tile.Tile object at 0x10684ccc0>, <Tile.Tile object at 0x106838be0>, <Tile.Tile object at 0x106838c18>, <Tile.Tile object at 0x106838c50>, <Tile.Tile object at 0x106838c88>, <Tile.Tile object at 0x106838cc0>, <Tile.Tile object at 0x10684c320>, <Tile.Tile object at 0x10684c358>, <Tile.Tile object at 0x10684c390>, <Tile.Tile object at 0x10684c3c8>, <Tile.Tile object at 0x10684c438>, <Tile.Tile object at 0x10684c470>, <Tile.Tile object at 0x10684c4a8>, <Tile.Tile object at 0x10684c4e0>, <Tile.Tile object at 0x106838ac8>, <Tile.Tile object at 0x106838b00>, <Tile.Tile object at 0x106838b38>, <Tile.Tile object at 0x106838b70>, <Tile.Tile object at 0x106838ba8>, <Tile.Tile object at 0x10684c198>, <Tile.Tile object at 0x10684c1d0>, <Tile.Tile object at 0x10684c208>, <Tile.Tile object at 0x10684c240>, <Tile.Tile object at 0x10684c278>, <Tile.Tile object at 0x10684c2b0>, <Tile.Tile object at 0x106838cf8>, <Tile.Tile object at 0x106838d30>, <Tile.Tile object at 0x10684c940>, <Tile.Tile object at 0x10684c6d8>, <Tile.Tile object at 0x10684c710>, <Tile.Tile object at 0x10684c978>, <Tile.Tile object at 0x10684c9b0>, <Tile.Tile object at 0x106838940>, <Tile.Tile object at 0x10684c400>, <Tile.Tile object at 0x10684c9e8>, <Tile.Tile object at 0x10684c2e8>, <Tile.Tile object at 0x10684c160>, <Tile.Tile object at 0x106838fd0>, <Tile.Tile object at 0x10684c048>, <Tile.Tile object at 0x10684c080>, <Tile.Tile object at 0x10684c0b8>, <Tile.Tile object at 0x10684c0f0>, <Tile.Tile object at 0x10684c128>, <Tile.Tile object at 0x106838a90>, <Tile.Tile object at 0x10684c748>, <Tile.Tile object at 0x10684c780>, <Tile.Tile object at 0x10684c7b8>, <Tile.Tile object at 0x10684c7f0>, <Tile.Tile object at 0x10684c828>, <Tile.Tile object at 0x10684ca20>, <Tile.Tile object at 0x10684ca58>, <Tile.Tile object at 0x10684ca90>, <Tile.Tile object at 0x10684cac8>, <Tile.Tile object at 0x10684cb00>, <Tile.Tile object at 0x10684c860>, <Tile.Tile object at 0x10684c898>, <Tile.Tile object at 0x10684c8d0>, <Tile.Tile object at 0x10684c908>, <Tile.Tile object at 0x10684c518>, <Tile.Tile object at 0x10684c550>, <Tile.Tile object at 0x10684c588>, <Tile.Tile object at 0x10684c5c0>, <Tile.Tile object at 0x106838550>, <Tile.Tile object at 0x106838978>, <Tile.Tile object at 0x1068382e8>, <Tile.Tile object at 0x106838898>, <Tile.Tile object at 0x10684cb38>, <Tile.Tile object at 0x10684cb70>, <Tile.Tile object at 0x10684cba8>, <Tile.Tile object at 0x10684cbe0>, <Tile.Tile object at 0x10684cdd8>, <Tile.Tile object at 0x10684ce10>, <Tile.Tile object at 0x10684ce48>, <Tile.Tile object at 0x10684ce80>, <Tile.Tile object at 0x106838d68>, <Tile.Tile object at 0x106838da0>, <Tile.Tile object at 0x106838dd8>, <Tile.Tile object at 0x106838e10>, <Tile.Tile object at 0x106838e48>, <Tile.Tile object at 0x106838e80>, <Tile.Tile object at 0x106838eb8>, <Tile.Tile object at 0x106838ef0>, <Tile.Tile object at 0x106838f28>, <Tile.Tile object at 0x106838f60>, <Tile.Tile object at 0x106838f98>, <Tile.Tile object at 0x10684c5f8>, <Tile.Tile object at 0x10684c630>, <Tile.Tile object at 0x10684c668>, <Tile.Tile object at 0x10684c6a0>]\n"
     ]
    }
   ],
   "source": [
    "sortbag = sorted(tb.InBag, key=lambda tile: tile.POT)\n",
    "print(sortbag.In)"
   ]
  },
  {
   "cell_type": "code",
   "execution_count": 8,
   "metadata": {
    "collapsed": false
   },
   "outputs": [
    {
     "name": "stdout",
     "output_type": "stream",
     "text": [
      "7\n",
      "7\n",
      "7\n",
      "7\n",
      "15\n",
      "*|/\n",
      "*|/\n",
      "*|/\n",
      "*|/\n",
      "20\n",
      "0\n",
      "0\n",
      "0\n",
      "0\n",
      "0\n",
      "+|-\n",
      "+|-\n",
      "+|-\n",
      "+|-\n",
      "+|-\n",
      "10\n",
      "10\n",
      "=\n",
      "=\n",
      "=\n",
      "=\n",
      "=\n",
      "=\n",
      "=\n",
      "=\n",
      "=\n",
      "=\n",
      "=\n",
      "2\n",
      "2\n",
      "2\n",
      "2\n",
      "2\n",
      "2\n",
      "19\n",
      "1\n",
      "1\n",
      "1\n",
      "1\n",
      "1\n",
      "1\n",
      "18\n",
      "-\n",
      "-\n",
      "-\n",
      "-\n",
      "16\n",
      "/\n",
      "/\n",
      "/\n",
      "/\n",
      "6\n",
      "6\n",
      "6\n",
      "6\n",
      "?\n",
      "?\n",
      "?\n",
      "?\n",
      "12\n",
      "12\n",
      "3\n",
      "3\n",
      "3\n",
      "3\n",
      "3\n",
      "5\n",
      "5\n",
      "5\n",
      "5\n",
      "11\n",
      "13\n",
      "14\n",
      "17\n",
      "4\n",
      "4\n",
      "4\n",
      "4\n",
      "4\n",
      "8\n",
      "8\n",
      "8\n",
      "8\n",
      "+\n",
      "+\n",
      "+\n",
      "+\n",
      "*\n",
      "*\n",
      "*\n",
      "*\n",
      "9\n",
      "9\n",
      "9\n",
      "9\n"
     ]
    }
   ],
   "source": [
    "for tile in tb.InBag:\n",
    "    print(tile.POT)"
   ]
  },
  {
   "cell_type": "code",
   "execution_count": null,
   "metadata": {
    "collapsed": true
   },
   "outputs": [],
   "source": []
  }
 ],
 "metadata": {
  "kernelspec": {
   "display_name": "Python 3",
   "language": "python",
   "name": "python3"
  },
  "language_info": {
   "codemirror_mode": {
    "name": "ipython",
    "version": 3
   },
   "file_extension": ".py",
   "mimetype": "text/x-python",
   "name": "python",
   "nbconvert_exporter": "python",
   "pygments_lexer": "ipython3",
   "version": "3.5.2"
  }
 },
 "nbformat": 4,
 "nbformat_minor": 0
}
