{
 "cells": [
  {
   "cell_type": "code",
   "execution_count": 1,
   "metadata": {
    "collapsed": true
   },
   "outputs": [],
   "source": [
    "from Rack import Rack\n",
    "from Tile import Tile\n",
    "from Tilebag import Tilebag"
   ]
  },
  {
   "cell_type": "code",
   "execution_count": 2,
   "metadata": {
    "collapsed": false
   },
   "outputs": [],
   "source": [
    "tb = Tilebag()\n",
    "tb.fill_bag()\n",
    "rk = Rack()\n",
    "rk.fill_rack(tb)"
   ]
  },
  {
   "cell_type": "code",
   "execution_count": 3,
   "metadata": {
    "collapsed": false
   },
   "outputs": [
    {
     "name": "stdout",
     "output_type": "stream",
     "text": [
      "1 2 2 *|/ / = = 11\n"
     ]
    },
    {
     "data": {
      "text/plain": [
       "92"
      ]
     },
     "execution_count": 3,
     "metadata": {},
     "output_type": "execute_result"
    }
   ],
   "source": [
    "rk.print_rack()\n",
    "tb.how_many_in_bag()"
   ]
  },
  {
   "cell_type": "code",
   "execution_count": 4,
   "metadata": {
    "collapsed": false
   },
   "outputs": [
    {
     "name": "stdout",
     "output_type": "stream",
     "text": [
      "You're attempting to exchange tiles that aren't currently on your rack.\n",
      "Continue by exchanging as many tiles as possible from requested? (n)o or (y)esy\n",
      "The tile 19 is not present on this rack.\n",
      "WARNING: The tile you've attempted to retrieve from this rack doesn't exist in A-Math!\n",
      "Tiles should have a value between 0 or 20, be an operator (+, -, *, /, +|-, *|/ or =) or a blank (?).\n"
     ]
    }
   ],
   "source": [
    "rk.exchange_tiles(tb,'1 2 19 23')"
   ]
  },
  {
   "cell_type": "code",
   "execution_count": 5,
   "metadata": {
    "collapsed": false
   },
   "outputs": [
    {
     "name": "stdout",
     "output_type": "stream",
     "text": [
      "0 2 5 5 7 *|/ +|- -\n",
      "?,?,?,?\n",
      "0,0,0,0\n",
      "1,1,1,1,1,1\n",
      "2,2,2,2,2\n",
      "3,3,3,3,3\n",
      "4,4,4,4,4\n",
      "5,5\n",
      "6,6,6,6\n",
      "7,7,7\n",
      "8,8,8,8\n",
      "9,9,9,9\n",
      "*,*,*,*\n",
      "*|/,*|/,*|/\n",
      "+,+,+,+\n",
      "+|-,+|-,+|-,+|-\n",
      "-,-,-\n",
      "/,/,/,/\n",
      "=,=,=,=,=,=,=,=,=,=,=\n",
      "10,10\n",
      "11\n",
      "12,12\n",
      "13\n",
      "14\n",
      "15\n",
      "16\n",
      "17\n",
      "18\n",
      "19\n",
      "20\n"
     ]
    }
   ],
   "source": [
    "rk.print_rack()\n",
    "tb.how_many_in_bag()\n",
    "tb.print_bag()"
   ]
  },
  {
   "cell_type": "code",
   "execution_count": 5,
   "metadata": {
    "collapsed": false
   },
   "outputs": [
    {
     "name": "stdout",
     "output_type": "stream",
     "text": [
      "['7', '*', '5', '=', '3', '=', '1', '6']\n"
     ]
    }
   ],
   "source": [
    "currently_on_rack = [ tile.pot for tile in rk.tiles_on_rack ]\n",
    "print(currently_on_rack)\n"
   ]
  },
  {
   "cell_type": "code",
   "execution_count": 4,
   "metadata": {
    "collapsed": false
   },
   "outputs": [
    {
     "name": "stdout",
     "output_type": "stream",
     "text": [
      "['20', '20']\n",
      "1 1 * +|- +|- - = 15\n",
      "\n",
      "There are no more 20 tiles in this tilebag.\n",
      "Do you wish to create an additional 20 tile? (n)o or (y)es\n",
      "CAUTION: will permanently expand tilebag.n\n",
      "Unable to draw a 20 tile.\n",
      "[<Tile.Tile object at 0x10b517278>, None]\n",
      "[<Tile.Tile object at 0x10b517278>]\n"
     ]
    }
   ],
   "source": [
    "rk.set_rack_to_input('20 20', tb)"
   ]
  },
  {
   "cell_type": "code",
   "execution_count": 8,
   "metadata": {
    "collapsed": false
   },
   "outputs": [
    {
     "name": "stdout",
     "output_type": "stream",
     "text": [
      "20 20\n"
     ]
    }
   ],
   "source": [
    "rk.print_rack()"
   ]
  },
  {
   "cell_type": "code",
   "execution_count": 9,
   "metadata": {
    "collapsed": false
   },
   "outputs": [
    {
     "data": {
      "text/plain": [
       "99"
      ]
     },
     "execution_count": 9,
     "metadata": {},
     "output_type": "execute_result"
    }
   ],
   "source": [
    "tb.how_many_in_bag()"
   ]
  },
  {
   "cell_type": "code",
   "execution_count": 10,
   "metadata": {
    "collapsed": false
   },
   "outputs": [
    {
     "name": "stdout",
     "output_type": "stream",
     "text": [
      "?,?,?,?\n",
      "0,0,0,0,0\n",
      "1,1,1,1,1,1\n",
      "2,2,2,2,2,2\n",
      "3,3,3,3,3\n",
      "4,4,4,4,4\n",
      "5,5,5,5\n",
      "6,6,6,6\n",
      "7,7,7,7\n",
      "8,8,8,8\n",
      "9,9,9,9\n",
      "*,*,*,*\n",
      "*|/,*|/,*|/,*|/\n",
      "+,+,+,+\n",
      "+|-,+|-,+|-,+|-,+|-\n",
      "-,-,-,-\n",
      "/,/,/,/\n",
      "=,=,=,=,=,=,=,=,=,=,=\n",
      "10,10\n",
      "11\n",
      "12,12\n",
      "13\n",
      "14\n",
      "15\n",
      "16\n",
      "17\n",
      "18\n",
      "19\n"
     ]
    }
   ],
   "source": [
    "tb.print_bag()"
   ]
  },
  {
   "cell_type": "code",
   "execution_count": 6,
   "metadata": {
    "collapsed": false
   },
   "outputs": [
    {
     "data": {
      "text/plain": [
       "False"
      ]
     },
     "execution_count": 6,
     "metadata": {},
     "output_type": "execute_result"
    }
   ],
   "source": [
    "all(x in [1,2,3] for x in [1,4])"
   ]
  },
  {
   "cell_type": "code",
   "execution_count": 3,
   "metadata": {
    "collapsed": false
   },
   "outputs": [
    {
     "ename": "ValueError",
     "evalue": "list.remove(x): x not in list",
     "output_type": "error",
     "traceback": [
      "\u001b[0;31m---------------------------------------------------------------------------\u001b[0m",
      "\u001b[0;31mValueError\u001b[0m                                Traceback (most recent call last)",
      "\u001b[0;32m<ipython-input-3-4fddc69a1769>\u001b[0m in \u001b[0;36m<module>\u001b[0;34m()\u001b[0m\n\u001b[1;32m      1\u001b[0m \u001b[0mqq\u001b[0m \u001b[0;34m=\u001b[0m \u001b[0;34m[\u001b[0m\u001b[0;34m'1'\u001b[0m\u001b[0;34m,\u001b[0m\u001b[0;34m'2'\u001b[0m\u001b[0;34m,\u001b[0m\u001b[0;34m'3'\u001b[0m\u001b[0;34m,\u001b[0m\u001b[0;34m'4'\u001b[0m\u001b[0;34m]\u001b[0m\u001b[0;34m\u001b[0m\u001b[0m\n\u001b[1;32m      2\u001b[0m \u001b[0mqq\u001b[0m\u001b[0;34m.\u001b[0m\u001b[0mremove\u001b[0m\u001b[0;34m(\u001b[0m\u001b[0;34m'1'\u001b[0m\u001b[0;34m)\u001b[0m\u001b[0;34m\u001b[0m\u001b[0m\n\u001b[0;32m----> 3\u001b[0;31m \u001b[0mqq\u001b[0m\u001b[0;34m.\u001b[0m\u001b[0mremove\u001b[0m\u001b[0;34m(\u001b[0m\u001b[0;34m'6'\u001b[0m\u001b[0;34m)\u001b[0m\u001b[0;34m\u001b[0m\u001b[0m\n\u001b[0m",
      "\u001b[0;31mValueError\u001b[0m: list.remove(x): x not in list"
     ]
    }
   ],
   "source": [
    "qq = ['1','2','3','4']\n",
    "qq.remove('1')\n",
    "qq.remove('6')"
   ]
  },
  {
   "cell_type": "code",
   "execution_count": 12,
   "metadata": {
    "collapsed": false
   },
   "outputs": [
    {
     "name": "stdout",
     "output_type": "stream",
     "text": [
      "['*|/', '16', '5', '1', '8', '15']\n"
     ]
    }
   ],
   "source": [
    "print(currently_on_rack)\n",
    "parsed_exchange = ['6','6','6']"
   ]
  },
  {
   "cell_type": "code",
   "execution_count": 13,
   "metadata": {
    "collapsed": false
   },
   "outputs": [
    {
     "name": "stdout",
     "output_type": "stream",
     "text": [
      "You're attempting to exchange tiles that aren't currently on your rack.\n",
      "Continue by exchanging as many tiles as possible from requested? (n)o or (y)esn\n",
      "Exchange aborted.\n",
      "42\n"
     ]
    }
   ],
   "source": [
    "currently_on_rack = [ tile.pot for tile in rk.tiles_on_rack ]\n",
    "\n",
    "try:\n",
    "    [ currently_on_rack.remove(x) for x in parsed_exchange ]\n",
    "\n",
    "except ValueError:\n",
    "    print('You\\'re attempting to exchange tiles that aren\\'t currently on your rack.')\n",
    "    override = input('Continue by exchanging as many tiles as possible from requested? (n)o or (y)es')\n",
    "    if override not in ['y','yes']:\n",
    "        print('Exchange aborted.')\n",
    "    \n",
    "print(42)"
   ]
  },
  {
   "cell_type": "code",
   "execution_count": null,
   "metadata": {
    "collapsed": true
   },
   "outputs": [],
   "source": []
  }
 ],
 "metadata": {
  "kernelspec": {
   "display_name": "Python 3",
   "language": "python",
   "name": "python3"
  },
  "language_info": {
   "codemirror_mode": {
    "name": "ipython",
    "version": 3
   },
   "file_extension": ".py",
   "mimetype": "text/x-python",
   "name": "python",
   "nbconvert_exporter": "python",
   "pygments_lexer": "ipython3",
   "version": "3.5.2"
  }
 },
 "nbformat": 4,
 "nbformat_minor": 0
}
