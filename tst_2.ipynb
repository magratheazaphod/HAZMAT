{
 "cells": [
  {
   "cell_type": "code",
   "execution_count": 1,
   "metadata": {
    "collapsed": false
   },
   "outputs": [],
   "source": [
    "from Tile import Tile\n",
    "from Tilebag import Tilebag"
   ]
  },
  {
   "cell_type": "code",
   "execution_count": 2,
   "metadata": {
    "collapsed": false
   },
   "outputs": [
    {
     "data": {
      "text/plain": [
       "5"
      ]
     },
     "execution_count": 2,
     "metadata": {},
     "output_type": "execute_result"
    }
   ],
   "source": [
    "tb = Tilebag()\n",
    "tb.fill_bag()\n",
    "tb.how_many_in_bag('0')"
   ]
  },
  {
   "cell_type": "code",
   "execution_count": 4,
   "metadata": {
    "collapsed": false
   },
   "outputs": [
    {
     "name": "stdout",
     "output_type": "stream",
     "text": [
      "?,?,?,?\n",
      "0,0,0,0,0\n",
      "1,1,1,1,1,1\n",
      "2,2,2,2,2,2\n",
      "3,3,3,3,3\n",
      "4,4,4,4,4\n",
      "5,5,5,5\n",
      "6,6,6,6\n",
      "7,7,7,7\n",
      "8,8,8,8\n",
      "9,9,9,9\n",
      "*,*,*,*\n",
      "*|/,*|/,*|/,*|/\n",
      "+,+,+,+\n",
      "+|-,+|-,+|-,+|-,+|-\n",
      "-,-,-,-\n",
      "/,/,/,/\n",
      "=,=,=,=,=,=,=,=,=,=,=\n",
      "10,10\n",
      "11\n",
      "12,12\n",
      "13\n",
      "14\n",
      "15\n",
      "16\n",
      "17\n",
      "18\n",
      "19\n",
      "20\n"
     ]
    }
   ],
   "source": [
    "tb.print_bag()"
   ]
  },
  {
   "cell_type": "code",
   "execution_count": 18,
   "metadata": {
    "collapsed": false
   },
   "outputs": [
    {
     "name": "stdout",
     "output_type": "stream",
     "text": [
      "WARNING: The tile you've attempted to draw doesn't exist in A-Math!\n",
      "Tiles should have a value between 0 or 20, be an operator (+, -, *, /, +|-, *|/ or =) or a blank (?).\n"
     ]
    },
    {
     "ename": "AttributeError",
     "evalue": "'NoneType' object has no attribute 'pot'",
     "output_type": "error",
     "traceback": [
      "\u001b[0;31m---------------------------------------------------------------------------\u001b[0m",
      "\u001b[0;31mAttributeError\u001b[0m                            Traceback (most recent call last)",
      "\u001b[0;32m<ipython-input-18-2a60b6e5ec4d>\u001b[0m in \u001b[0;36m<module>\u001b[0;34m()\u001b[0m\n\u001b[1;32m      1\u001b[0m \u001b[0mqq\u001b[0m \u001b[0;34m=\u001b[0m \u001b[0mtb\u001b[0m\u001b[0;34m.\u001b[0m\u001b[0mdraw_tile\u001b[0m\u001b[0;34m(\u001b[0m\u001b[0;34m'+-'\u001b[0m\u001b[0;34m)\u001b[0m\u001b[0;34m\u001b[0m\u001b[0m\n\u001b[0;32m----> 2\u001b[0;31m \u001b[0mprint\u001b[0m\u001b[0;34m(\u001b[0m\u001b[0;34m'Tile drawn:'\u001b[0m\u001b[0;34m,\u001b[0m\u001b[0mqq\u001b[0m\u001b[0;34m.\u001b[0m\u001b[0mpot\u001b[0m\u001b[0;34m)\u001b[0m\u001b[0;34m\u001b[0m\u001b[0m\n\u001b[0m\u001b[1;32m      3\u001b[0m \u001b[0mtb\u001b[0m\u001b[0;34m.\u001b[0m\u001b[0mprint_bag\u001b[0m\u001b[0;34m(\u001b[0m\u001b[0;34m)\u001b[0m\u001b[0;34m\u001b[0m\u001b[0m\n",
      "\u001b[0;31mAttributeError\u001b[0m: 'NoneType' object has no attribute 'pot'"
     ]
    }
   ],
   "source": [
    "qq = tb.draw_tile('+-')\n",
    "print('Tile drawn:',qq.pot)\n",
    "tb.print_bag()"
   ]
  },
  {
   "cell_type": "code",
   "execution_count": 11,
   "metadata": {
    "collapsed": false
   },
   "outputs": [
    {
     "data": {
      "text/plain": [
       "True"
      ]
     },
     "execution_count": 11,
     "metadata": {},
     "output_type": "execute_result"
    }
   ],
   "source": [
    "'5' in Tile.point_value_dict.keys()"
   ]
  },
  {
   "cell_type": "code",
   "execution_count": 3,
   "metadata": {
    "collapsed": true
   },
   "outputs": [],
   "source": [
    "qq = Tile(6)\n",
    "rr = Tile(20)\n",
    "ss = [qq,rr]"
   ]
  },
  {
   "cell_type": "code",
   "execution_count": 4,
   "metadata": {
    "collapsed": false
   },
   "outputs": [
    {
     "name": "stdout",
     "output_type": "stream",
     "text": [
      "20\n"
     ]
    }
   ],
   "source": [
    "print(rr.pot)"
   ]
  },
  {
   "cell_type": "code",
   "execution_count": 11,
   "metadata": {
    "collapsed": false
   },
   "outputs": [
    {
     "name": "stdout",
     "output_type": "stream",
     "text": [
      "WARNING: You are adding another 6 even though this exceeds the standard distribution.\n",
      "Are you sure you want to continue? (n)o or (y)es:y\n"
     ]
    }
   ],
   "source": [
    "tt = tb.swap_tiles(qq)"
   ]
  },
  {
   "cell_type": "code",
   "execution_count": 12,
   "metadata": {
    "collapsed": false
   },
   "outputs": [
    {
     "name": "stdout",
     "output_type": "stream",
     "text": [
      "3\n"
     ]
    },
    {
     "data": {
      "text/plain": [
       "[None]"
      ]
     },
     "execution_count": 12,
     "metadata": {},
     "output_type": "execute_result"
    }
   ],
   "source": [
    "[ print(tile.pot) for tile in tt ]"
   ]
  },
  {
   "cell_type": "code",
   "execution_count": 13,
   "metadata": {
    "collapsed": false
   },
   "outputs": [
    {
     "name": "stdout",
     "output_type": "stream",
     "text": [
      "?,?,?,?\n",
      "0,0,0,0,0\n",
      "1,1,1,1,1,1\n",
      "2,2,2,2,2,2\n",
      "3,3,3,3\n",
      "4,4,4,4,4\n",
      "5,5,5,5\n",
      "6,6,6,6,6,6\n",
      "7,7,7,7\n",
      "8,8,8,8\n",
      "9,9,9,9\n",
      "*,*,*\n",
      "*|/,*|/,*|/,*|/\n",
      "+,+,+,+\n",
      "+|-,+|-,+|-,+|-,+|-\n",
      "-,-,-,-\n",
      "/,/,/,/\n",
      "=,=,=,=,=,=,=,=,=,=,=\n",
      "10,10\n",
      "11\n",
      "12,12\n",
      "13\n",
      "14\n",
      "15\n",
      "16\n",
      "17\n",
      "18\n",
      "19\n",
      "20\n"
     ]
    }
   ],
   "source": [
    "tb.print_bag()"
   ]
  },
  {
   "cell_type": "code",
   "execution_count": null,
   "metadata": {
    "collapsed": true
   },
   "outputs": [],
   "source": []
  }
 ],
 "metadata": {
  "kernelspec": {
   "display_name": "Python 3",
   "language": "python",
   "name": "python3"
  },
  "language_info": {
   "codemirror_mode": {
    "name": "ipython",
    "version": 3
   },
   "file_extension": ".py",
   "mimetype": "text/x-python",
   "name": "python",
   "nbconvert_exporter": "python",
   "pygments_lexer": "ipython3",
   "version": "3.5.2"
  }
 },
 "nbformat": 4,
 "nbformat_minor": 0
}
