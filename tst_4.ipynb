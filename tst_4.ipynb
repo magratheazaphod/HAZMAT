{
 "cells": [
  {
   "cell_type": "markdown",
   "metadata": {},
   "source": [
    "Quick test of new Tilebag.add_tile_object_to_bag function (instead of just taking denomination of new tile of input as in Tilebag.add_tile_to_bag)"
   ]
  },
  {
   "cell_type": "code",
   "execution_count": 1,
   "metadata": {
    "collapsed": false
   },
   "outputs": [],
   "source": [
    "from Rack import Rack\n",
    "from Tile import Tile\n",
    "from Tilebag import Tilebag"
   ]
  },
  {
   "cell_type": "code",
   "execution_count": 2,
   "metadata": {
    "collapsed": false
   },
   "outputs": [
    {
     "name": "stdout",
     "output_type": "stream",
     "text": [
      "42\n",
      "4\n",
      "0\n",
      "42\n",
      "4\n",
      "1\n",
      "42\n",
      "4\n",
      "2\n",
      "42\n",
      "4\n",
      "3\n",
      "42\n",
      "11\n",
      "0\n",
      "42\n",
      "11\n",
      "1\n",
      "42\n",
      "11\n",
      "2\n",
      "42\n",
      "11\n",
      "3\n",
      "42\n",
      "11\n",
      "4\n",
      "42\n",
      "11\n",
      "5\n",
      "42\n",
      "11\n",
      "6\n",
      "42\n",
      "11\n",
      "7\n",
      "42\n",
      "11\n",
      "8\n",
      "42\n",
      "11\n",
      "9\n",
      "42\n",
      "11\n",
      "10\n",
      "42\n",
      "4\n",
      "0\n",
      "42\n",
      "4\n",
      "1\n",
      "42\n",
      "4\n",
      "2\n",
      "42\n",
      "4\n",
      "3\n",
      "42\n",
      "1\n",
      "0\n",
      "42\n",
      "1\n",
      "0\n",
      "42\n",
      "2\n",
      "0\n",
      "42\n",
      "2\n",
      "1\n",
      "42\n",
      "1\n",
      "0\n",
      "42\n",
      "4\n",
      "0\n",
      "42\n",
      "4\n",
      "1\n",
      "42\n",
      "4\n",
      "2\n",
      "42\n",
      "4\n",
      "3\n",
      "42\n",
      "1\n",
      "0\n",
      "42\n",
      "5\n",
      "0\n",
      "42\n",
      "5\n",
      "1\n",
      "42\n",
      "5\n",
      "2\n",
      "42\n",
      "5\n",
      "3\n",
      "42\n",
      "5\n",
      "4\n",
      "42\n",
      "5\n",
      "0\n",
      "42\n",
      "5\n",
      "1\n",
      "42\n",
      "5\n",
      "2\n",
      "42\n",
      "5\n",
      "3\n",
      "42\n",
      "5\n",
      "4\n",
      "42\n",
      "5\n",
      "0\n",
      "42\n",
      "5\n",
      "1\n",
      "42\n",
      "5\n",
      "2\n",
      "42\n",
      "5\n",
      "3\n",
      "42\n",
      "5\n",
      "4\n",
      "42\n",
      "1\n",
      "0\n",
      "42\n",
      "4\n",
      "0\n",
      "42\n",
      "4\n",
      "1\n",
      "42\n",
      "4\n",
      "2\n",
      "42\n",
      "4\n",
      "3\n",
      "42\n",
      "1\n",
      "0\n",
      "42\n",
      "4\n",
      "0\n",
      "42\n",
      "4\n",
      "1\n",
      "42\n",
      "4\n",
      "2\n",
      "42\n",
      "4\n",
      "3\n",
      "42\n",
      "6\n",
      "0\n",
      "42\n",
      "6\n",
      "1\n",
      "42\n",
      "6\n",
      "2\n",
      "42\n",
      "6\n",
      "3\n",
      "42\n",
      "6\n",
      "4\n",
      "42\n",
      "6\n",
      "5\n",
      "42\n",
      "4\n",
      "0\n",
      "42\n",
      "4\n",
      "1\n",
      "42\n",
      "4\n",
      "2\n",
      "42\n",
      "4\n",
      "3\n",
      "42\n",
      "4\n",
      "0\n",
      "42\n",
      "4\n",
      "1\n",
      "42\n",
      "4\n",
      "2\n",
      "42\n",
      "4\n",
      "3\n",
      "42\n",
      "5\n",
      "0\n",
      "42\n",
      "5\n",
      "1\n",
      "42\n",
      "5\n",
      "2\n",
      "42\n",
      "5\n",
      "3\n",
      "42\n",
      "5\n",
      "4\n",
      "42\n",
      "4\n",
      "0\n",
      "42\n",
      "4\n",
      "1\n",
      "42\n",
      "4\n",
      "2\n",
      "42\n",
      "4\n",
      "3\n",
      "42\n",
      "4\n",
      "0\n",
      "42\n",
      "4\n",
      "1\n",
      "42\n",
      "4\n",
      "2\n",
      "42\n",
      "4\n",
      "3\n",
      "42\n",
      "1\n",
      "0\n",
      "42\n",
      "1\n",
      "0\n",
      "42\n",
      "6\n",
      "0\n",
      "42\n",
      "6\n",
      "1\n",
      "42\n",
      "6\n",
      "2\n",
      "42\n",
      "6\n",
      "3\n",
      "42\n",
      "6\n",
      "4\n",
      "42\n",
      "6\n",
      "5\n",
      "42\n",
      "1\n",
      "0\n",
      "42\n",
      "4\n",
      "0\n",
      "42\n",
      "4\n",
      "1\n",
      "42\n",
      "4\n",
      "2\n",
      "42\n",
      "4\n",
      "3\n",
      "42\n",
      "4\n",
      "0\n",
      "42\n",
      "4\n",
      "1\n",
      "42\n",
      "4\n",
      "2\n",
      "42\n",
      "4\n",
      "3\n",
      "42\n",
      "2\n",
      "0\n",
      "42\n",
      "2\n",
      "1\n"
     ]
    }
   ],
   "source": [
    "tb = Tilebag()\n",
    "tb.fill_bag()"
   ]
  },
  {
   "cell_type": "code",
   "execution_count": 3,
   "metadata": {
    "collapsed": false
   },
   "outputs": [
    {
     "name": "stdout",
     "output_type": "stream",
     "text": [
      "?,?,?,?\n",
      "0,0,0,0,0\n",
      "1,1,1,1,1,1\n",
      "2,2,2,2,2,2\n",
      "3,3,3,3,3\n",
      "4,4,4,4,4\n",
      "5,5,5,5\n",
      "6,6,6,6\n",
      "7,7,7,7\n",
      "8,8,8,8\n",
      "9,9,9,9\n",
      "*,*,*,*\n",
      "*|/,*|/,*|/,*|/\n",
      "+,+,+,+\n",
      "+|-,+|-,+|-,+|-,+|-\n",
      "-,-,-,-\n",
      "/,/,/,/\n",
      "=,=,=,=,=,=,=,=,=,=,=\n",
      "10,10\n",
      "11\n",
      "12,12\n",
      "13\n",
      "14\n",
      "15\n",
      "16\n",
      "17\n",
      "18\n",
      "19\n",
      "20\n"
     ]
    }
   ],
   "source": [
    "tb.print_bag()"
   ]
  },
  {
   "cell_type": "code",
   "execution_count": 4,
   "metadata": {
    "collapsed": false
   },
   "outputs": [
    {
     "name": "stdout",
     "output_type": "stream",
     "text": [
      "42\n",
      "1\n",
      "1\n",
      "WARNING: You are adding another 20 even though this exceeds the standard distribution.\n",
      "Are you sure you want to continue? (n)o or (y)es:y\n"
     ]
    }
   ],
   "source": [
    "tb.add_tile_to_bag('20','n')"
   ]
  },
  {
   "cell_type": "code",
   "execution_count": 7,
   "metadata": {
    "collapsed": false
   },
   "outputs": [
    {
     "name": "stdout",
     "output_type": "stream",
     "text": [
      "There are no more 20 tiles in this tilebag.\n",
      "Do you wish to create an additional 20 tile? (n)o or (y)es\n",
      "CAUTION: will permanently expand tilebag.y\n",
      "44\n",
      "42\n",
      "1\n",
      "0\n",
      "<class 'Tile.Tile'>\n"
     ]
    }
   ],
   "source": [
    "qq = tb.draw_tile(20)\n",
    "print(type(qq))"
   ]
  },
  {
   "cell_type": "code",
   "execution_count": 9,
   "metadata": {
    "collapsed": false
   },
   "outputs": [
    {
     "name": "stdout",
     "output_type": "stream",
     "text": [
      "?,?,?,?\n",
      "0,0,0,0,0\n",
      "1,1,1,1,1,1\n",
      "2,2,2,2,2,2\n",
      "3,3,3,3,3\n",
      "4,4,4,4,4\n",
      "5,5,5,5\n",
      "6,6,6,6\n",
      "7,7,7,7\n",
      "8,8,8,8\n",
      "9,9,9,9\n",
      "*,*,*,*\n",
      "*|/,*|/,*|/,*|/\n",
      "+,+,+,+\n",
      "+|-,+|-,+|-,+|-,+|-\n",
      "-,-,-,-\n",
      "/,/,/,/\n",
      "=,=,=,=,=,=,=,=,=,=,=\n",
      "10,10\n",
      "11\n",
      "12,12\n",
      "13\n",
      "14\n",
      "15\n",
      "16\n",
      "17\n",
      "18\n",
      "19\n"
     ]
    }
   ],
   "source": [
    "tb.print_bag()"
   ]
  },
  {
   "cell_type": "code",
   "execution_count": 7,
   "metadata": {
    "collapsed": false
   },
   "outputs": [],
   "source": [
    "rk = Rack()\n",
    "rk.fill_rack(tb)"
   ]
  },
  {
   "cell_type": "code",
   "execution_count": 5,
   "metadata": {
    "collapsed": false
   },
   "outputs": [
    {
     "data": {
      "text/plain": [
       "92"
      ]
     },
     "execution_count": 5,
     "metadata": {},
     "output_type": "execute_result"
    }
   ],
   "source": [
    "tb.how_many_in_bag()"
   ]
  },
  {
   "cell_type": "code",
   "execution_count": 6,
   "metadata": {
    "collapsed": false
   },
   "outputs": [
    {
     "name": "stdout",
     "output_type": "stream",
     "text": [
      "9 = 1 = 9 / 1 7\n"
     ]
    }
   ],
   "source": [
    "rk.print_tiles_on_rack()"
   ]
  },
  {
   "cell_type": "code",
   "execution_count": 7,
   "metadata": {
    "collapsed": false
   },
   "outputs": [],
   "source": [
    "tb.add_tile_object_to_bag(rk.tiles_on_rack[0])"
   ]
  },
  {
   "cell_type": "code",
   "execution_count": 8,
   "metadata": {
    "collapsed": false
   },
   "outputs": [
    {
     "name": "stdout",
     "output_type": "stream",
     "text": [
      "9 = 1 = 9 / 1 7\n"
     ]
    }
   ],
   "source": [
    "rk.print_tiles_on_rack()"
   ]
  },
  {
   "cell_type": "code",
   "execution_count": 9,
   "metadata": {
    "collapsed": false
   },
   "outputs": [
    {
     "data": {
      "text/plain": [
       "93"
      ]
     },
     "execution_count": 9,
     "metadata": {},
     "output_type": "execute_result"
    }
   ],
   "source": [
    "tb.how_many_in_bag()"
   ]
  },
  {
   "cell_type": "code",
   "execution_count": 10,
   "metadata": {
    "collapsed": false
   },
   "outputs": [
    {
     "name": "stdout",
     "output_type": "stream",
     "text": [
      "?,?,?,?\n",
      "0,0,0,0,0\n",
      "1,1,1,1\n",
      "2,2,2,2,2,2\n",
      "3,3,3,3,3\n",
      "4,4,4,4,4\n",
      "5,5,5,5\n",
      "6,6,6,6\n",
      "7,7,7\n",
      "8,8,8,8\n",
      "9,9,9\n",
      "*,*,*,*\n",
      "*|/,*|/,*|/,*|/\n",
      "+,+,+,+\n",
      "+|-,+|-,+|-,+|-,+|-\n",
      "-,-,-,-\n",
      "/,/,/\n",
      "=,=,=,=,=,=,=,=,=\n",
      "10,10\n",
      "11\n",
      "12,12\n",
      "13\n",
      "14\n",
      "15\n",
      "16\n",
      "17\n",
      "18\n",
      "19\n",
      "20\n"
     ]
    }
   ],
   "source": [
    "tb.print_bag()"
   ]
  },
  {
   "cell_type": "code",
   "execution_count": 11,
   "metadata": {
    "collapsed": true
   },
   "outputs": [],
   "source": [
    "tyl = rk.tiles_on_rack[0]"
   ]
  },
  {
   "cell_type": "code",
   "execution_count": 16,
   "metadata": {
    "collapsed": false
   },
   "outputs": [
    {
     "name": "stdout",
     "output_type": "stream",
     "text": [
      "WARNING: You are adding another 9 tile even though this exceeds the standard distribution.\n",
      "Are you sure you want to continue? (n)o or (y)es:y\n"
     ]
    }
   ],
   "source": [
    "tb.add_tile_object_to_bag(tyl)"
   ]
  },
  {
   "cell_type": "code",
   "execution_count": 17,
   "metadata": {
    "collapsed": false
   },
   "outputs": [
    {
     "name": "stdout",
     "output_type": "stream",
     "text": [
      "?,?,?,?\n",
      "0,0,0,0,0\n",
      "1,1,1,1\n",
      "2,2,2,2,2,2\n",
      "3,3,3,3,3\n",
      "4,4,4,4,4\n",
      "5,5,5,5\n",
      "6,6,6,6\n",
      "7,7,7\n",
      "8,8,8,8\n",
      "9,9,9,9,9,9,9,9\n",
      "*,*,*,*\n",
      "*|/,*|/,*|/,*|/\n",
      "+,+,+,+\n",
      "+|-,+|-,+|-,+|-,+|-\n",
      "-,-,-,-\n",
      "/,/,/\n",
      "=,=,=,=,=,=,=,=,=\n",
      "10,10\n",
      "11\n",
      "12,12\n",
      "13\n",
      "14\n",
      "15\n",
      "16\n",
      "17\n",
      "18\n",
      "19\n",
      "20\n"
     ]
    }
   ],
   "source": [
    "tb.print_bag()"
   ]
  },
  {
   "cell_type": "code",
   "execution_count": null,
   "metadata": {
    "collapsed": true
   },
   "outputs": [],
   "source": []
  }
 ],
 "metadata": {
  "kernelspec": {
   "display_name": "Python 3",
   "language": "python",
   "name": "python3"
  },
  "language_info": {
   "codemirror_mode": {
    "name": "ipython",
    "version": 3
   },
   "file_extension": ".py",
   "mimetype": "text/x-python",
   "name": "python",
   "nbconvert_exporter": "python",
   "pygments_lexer": "ipython3",
   "version": "3.5.2"
  }
 },
 "nbformat": 4,
 "nbformat_minor": 0
}
