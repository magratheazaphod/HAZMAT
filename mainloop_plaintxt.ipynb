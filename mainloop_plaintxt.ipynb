{
 "cells": [
  {
   "cell_type": "markdown",
   "metadata": {},
   "source": [
    "## A plaintxt guide\n",
    "Bag = MakeNewTilebag(distribution)\n",
    "for n in names:\n",
    "   Players.append(MakeNewPlayers(n)) #creates player with name and score attributes, makes rack\n",
    "Board = MakeNewBoard(configuration)\n",
    "\n",
    "UpdatedRack1 = FillRack(Rack1)\n",
    "UpdatedRack2 = FillRack(Rack2)\n",
    "AssignActivePlayer()\n",
    "\n",
    "#GAME LOOP\n",
    "while (CheckEndOfGame() == false):\n",
    "\n",
    "    NewBoard, Score = PlaceOnBoard(InputString)\n",
    "    UpdatedRack = PlaceTile(InputString.subtiles)\n",
    "\n",
    "    while (rack.notfull() and bag.notempty()):\n",
    "        UpdatedRack = DrawFromBag(UpdatedRack)\n",
    "\n",
    "    NewPlayer = SwitchActivePlayer()\n",
    "\n",
    "#GAME ENDS\n",
    "FinalScore(rack1,rack2)\n",
    "\n"
   ]
  },
  {
   "cell_type": "code",
   "execution_count": null,
   "metadata": {
    "collapsed": true
   },
   "outputs": [],
   "source": []
  }
 ],
 "metadata": {
  "kernelspec": {
   "display_name": "Python 3",
   "language": "python",
   "name": "python3"
  },
  "language_info": {
   "codemirror_mode": {
    "name": "ipython",
    "version": 3
   },
   "file_extension": ".py",
   "mimetype": "text/x-python",
   "name": "python",
   "nbconvert_exporter": "python",
   "pygments_lexer": "ipython3",
   "version": "3.5.2"
  }
 },
 "nbformat": 4,
 "nbformat_minor": 0
}
